{
 "cells": [
  {
   "cell_type": "code",
   "execution_count": null,
   "id": "aecf95ea-3922-498a-a742-53ef8708f612",
   "metadata": {},
   "outputs": [],
   "source": [
    "import mysql.connector as connector"
   ]
  },
  {
   "cell_type": "code",
   "execution_count": null,
   "id": "b4a71132-8241-43ca-8de8-07ec4e01493d",
   "metadata": {},
   "outputs": [],
   "source": [
    "with open('.password', 'r') as fptr:\n",
    "    password = fptr.read().strip()"
   ]
  },
  {
   "cell_type": "code",
   "execution_count": null,
   "id": "50e76676-5e0e-4932-83b3-d84beec739cc",
   "metadata": {},
   "outputs": [],
   "source": [
    "connection = connector.connect(user = \"root\", password = password, database = \"LittleLemonDB\")\n",
    "cursor = connection.cursor()"
   ]
  },
  {
   "cell_type": "code",
   "execution_count": null,
   "id": "05d919c0-ace0-41c8-adb8-290d4700a5bc",
   "metadata": {},
   "outputs": [],
   "source": [
    "show_tables_query = \"SHOW tables\" \n",
    "cursor.execute(show_tables_query)\n",
    "results = cursor.fetchall()\n",
    "print(results)"
   ]
  },
  {
   "cell_type": "code",
   "execution_count": null,
   "id": "454f4308-74f7-4dd5-a7b7-8dc8fda78306",
   "metadata": {},
   "outputs": [],
   "source": [
    "query_string = \"\"\"\n",
    "SELECT c.customerFirstName, c.customerLastName, c.customerPhone, c.customerEmail, o.totalCost\n",
    "FROM Customers c\n",
    "INNER JOIN (\n",
    "SELECT customerID, totalCost\n",
    "FROM Orders\n",
    "WHERE totalCost > 60\n",
    ") as o\n",
    "ON c.customerID = o.customerID;\"\"\"\n",
    "cursor.execute(query_string)\n",
    "results = cursor.fetchall()\n",
    "print(results)"
   ]
  }
 ],
 "metadata": {
  "kernelspec": {
   "display_name": "Python 3 (ipykernel)",
   "language": "python",
   "name": "python3"
  },
  "language_info": {
   "codemirror_mode": {
    "name": "ipython",
    "version": 3
   },
   "file_extension": ".py",
   "mimetype": "text/x-python",
   "name": "python",
   "nbconvert_exporter": "python",
   "pygments_lexer": "ipython3",
   "version": "3.11.5"
  }
 },
 "nbformat": 4,
 "nbformat_minor": 5
}
